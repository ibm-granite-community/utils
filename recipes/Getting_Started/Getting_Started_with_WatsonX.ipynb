{
 "cells": [
  {
   "cell_type": "markdown",
   "id": "7828a665",
   "metadata": {},
   "source": [
    "# Getting Started with IBM WatsonX"
   ]
  },
  {
   "cell_type": "markdown",
   "id": "65e79071",
   "metadata": {},
   "source": [
    "## Accessing the Watson Machine Learning service"
   ]
  },
  {
   "cell_type": "markdown",
   "id": "d18460e3",
   "metadata": {},
   "source": [
    "### Establish a WatsonX account\n",
    "\n",
    "To use this remote option, create an account on [WatsonX](https://www.ibm.com/watsonx)."
   ]
  },
  {
   "cell_type": "markdown",
   "id": "556e261e",
   "metadata": {},
   "source": [
    "### Provide the environment variables\n",
    "\n",
    "There are three ways to provide the environment variables required by `find_langchain_model()` below.  In order of precedence:\n",
    "\n",
    "1. Directly as an environment variable in the python environment where the jupyter notebook is running.\n",
    "2. As a Google Colab secret, if you are running the notebook in Colab.\n",
    "3. Supplied by the user in a prompt during execution of the notebook."
   ]
  },
  {
   "cell_type": "markdown",
   "id": "c07c7c9a",
   "metadata": {},
   "source": [
    "### Provide your API Key\n",
    "\n",
    "Obtain your `WATSONX_APIKEY` by generating a [Platform API Key](https://www.ibm.com/docs/en/watsonx/watsonxdata/1.0.x?topic=started-generating-api-keys) on the watsonx.data web client.\n",
    "\n"
   ]
  },
  {
   "cell_type": "markdown",
   "id": "73ddc7d6",
   "metadata": {},
   "source": [
    "### Provide your Project Id\n",
    "\n",
    "Get your `WATSONX_PROJECT_ID` from the [WatsonX](https://www.ibm.com/watsonx) web client by following [these instructions](https://dataplatform.cloud.ibm.com/docs/content/wsj/analyze-data/fm-project-id.html?context=wx)."
   ]
  },
  {
   "cell_type": "markdown",
   "id": "4b76cdf0",
   "metadata": {},
   "source": [
    "### Provide your base WatsonX URL\n",
    "\n",
    "Get your `WATSONX_URL` by viewing the details for the service instance from the Cloud Pak for Data web client, as described in [these watsonx.ai setup instructions](https://ibm.github.io/watsonx-ai-python-sdk/setup_cpd.html).\n",
    "\n",
    "As an example, your `WATSONX_URL` may be `https://us-south.ml.cloud.ibm.com` for the Dallas zone."
   ]
  },
  {
   "cell_type": "markdown",
   "id": "ebb4d17d",
   "metadata": {},
   "source": [
    "## Querying the LLM with Langchain"
   ]
  },
  {
   "cell_type": "markdown",
   "id": "35dbaee4",
   "metadata": {},
   "source": [
    "### Choose a model"
   ]
  },
  {
   "cell_type": "code",
   "execution_count": 4,
   "id": "86a7ef73",
   "metadata": {},
   "outputs": [],
   "source": [
    "# model_id = \"ibm/granite-3b-code-instruct\"\n",
    "model_id = \"ibm/granite-8b-code-instruct\"\n",
    "# model_id = \"ibm/granite-20b-code-instruct\"\n",
    "# model_id = \"ibm/granite-34b-code-instruct\""
   ]
  },
  {
   "cell_type": "markdown",
   "id": "dea4e37e",
   "metadata": {},
   "source": [
    "### Instantiate the model client"
   ]
  },
  {
   "cell_type": "code",
   "execution_count": 5,
   "id": "ee2f9543",
   "metadata": {},
   "outputs": [],
   "source": [
    "\n",
    "from ibm_granite_community.notebook_utils import get_env_var\n",
    "from langchain_ibm import WatsonxLLM\n",
    "\n",
    "model = WatsonxLLM(\n",
    "    model_id=model_id, \n",
    "    url= get_env_var(\"WATSONX_URL\"),\n",
    "    apikey=get_env_var(\"WATSONX_APIKEY\"),\n",
    "    project_id=get_env_var(\"WATSONX_PROJECT_ID\"),\n",
    ")"
   ]
  },
  {
   "cell_type": "markdown",
   "id": "a7f4db5e",
   "metadata": {},
   "source": [
    "### Perform inference"
   ]
  },
  {
   "cell_type": "code",
   "execution_count": null,
   "id": "ddfdb7ef",
   "metadata": {},
   "outputs": [],
   "source": [
    "prompt = \"\"\"\n",
    "    Show me a SQL query that fetches all columns for the first 50 rows\n",
    "    in a table named 'users'.\"\"\"\n",
    "\n",
    "response = model.invoke(prompt)\n",
    "print(response)"
   ]
  }
 ],
 "metadata": {
  "kernelspec": {
   "display_name": ".venv",
   "language": "python",
   "name": "python3"
  },
  "language_info": {
   "codemirror_mode": {
    "name": "ipython",
    "version": 3
   },
   "file_extension": ".py",
   "mimetype": "text/x-python",
   "name": "python",
   "nbconvert_exporter": "python",
   "pygments_lexer": "ipython3",
   "version": "3.10.15"
  }
 },
 "nbformat": 4,
 "nbformat_minor": 5
}
